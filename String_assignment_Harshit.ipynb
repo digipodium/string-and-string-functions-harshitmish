{
  "nbformat": 4,
  "nbformat_minor": 0,
  "metadata": {
    "colab": {
      "name": "String assignment Harshit.ipynb",
      "provenance": []
    },
    "kernelspec": {
      "name": "python3",
      "display_name": "Python 3"
    },
    "language_info": {
      "name": "python"
    }
  },
  "cells": [
    {
      "cell_type": "markdown",
      "metadata": {
        "id": "c41pSITVkX2y"
      },
      "source": [
        "1.Create a string and print it"
      ]
    },
    {
      "cell_type": "code",
      "metadata": {
        "id": "n4WOaM3ykqtz",
        "colab": {
          "base_uri": "https://localhost:8080/"
        },
        "outputId": "0469f61d-f553-4952-d243-5ed92a4ded2c"
      },
      "source": [
        "name='Harshit  Mishra'\n",
        "age=\"21\"\n",
        "print(name , age)"
      ],
      "execution_count": 3,
      "outputs": [
        {
          "output_type": "stream",
          "name": "stdout",
          "text": [
            "Harshit  Mishra 21\n"
          ]
        }
      ]
    },
    {
      "cell_type": "markdown",
      "metadata": {
        "id": "ywyE_4Gj4YpS"
      },
      "source": [
        "2.Take a string input and print their lenght"
      ]
    },
    {
      "cell_type": "code",
      "metadata": {
        "id": "Pdn3_Qbtl5QR",
        "colab": {
          "base_uri": "https://localhost:8080/"
        },
        "outputId": "9165dc27-6cd4-4f83-bb91-c1e2a81e234c"
      },
      "source": [
        "s=str(input('enter a string'))\n",
        "print(len(s))"
      ],
      "execution_count": 4,
      "outputs": [
        {
          "output_type": "stream",
          "name": "stdout",
          "text": [
            "enter a stringytyttrctrxctg\n",
            "13\n"
          ]
        }
      ]
    },
    {
      "cell_type": "markdown",
      "metadata": {
        "id": "JC7DMwjO8xeG"
      },
      "source": [
        "3.Print the last word of the string \"Python is great\" using sclices"
      ]
    },
    {
      "cell_type": "code",
      "metadata": {
        "id": "nyYyHvZSod90",
        "colab": {
          "base_uri": "https://localhost:8080/",
          "height": 35
        },
        "outputId": "71ecd0a6-83ae-407b-cc48-51ddeeec073a"
      },
      "source": [
        "word='Python is great'\n",
        "word[::-5]\n"
      ],
      "execution_count": 5,
      "outputs": [
        {
          "output_type": "execute_result",
          "data": {
            "application/vnd.google.colaboratory.intrinsic+json": {
              "type": "string"
            },
            "text/plain": [
              "'t o'"
            ]
          },
          "metadata": {},
          "execution_count": 5
        }
      ]
    },
    {
      "cell_type": "markdown",
      "metadata": {
        "id": "QIK8El9Ecc4O"
      },
      "source": [
        "4.print each word in different line of string python is everywhere"
      ]
    },
    {
      "cell_type": "code",
      "metadata": {
        "id": "tG4f5MXAfZVb",
        "colab": {
          "base_uri": "https://localhost:8080/"
        },
        "outputId": "06f2875b-965e-4990-97ee-bf8e27361cd3"
      },
      "source": [
        "word='python is everywhere'\n",
        "for word in word.split():\n",
        "  print(word)"
      ],
      "execution_count": 6,
      "outputs": [
        {
          "output_type": "stream",
          "name": "stdout",
          "text": [
            "python\n",
            "is\n",
            "everywhere\n"
          ]
        }
      ]
    },
    {
      "cell_type": "markdown",
      "metadata": {
        "id": "Im-yNi2ujtG-"
      },
      "source": [
        "5.Print the string \"Hello word\" in reverse"
      ]
    },
    {
      "cell_type": "code",
      "metadata": {
        "id": "S6Jd1GrAjnxi",
        "colab": {
          "base_uri": "https://localhost:8080/",
          "height": 35
        },
        "outputId": "8e16a73d-5bcf-4e49-fd85-d9dd84e643cf"
      },
      "source": [
        "word=\"hello word!\"\n",
        "word[ ::-1]"
      ],
      "execution_count": 7,
      "outputs": [
        {
          "output_type": "execute_result",
          "data": {
            "application/vnd.google.colaboratory.intrinsic+json": {
              "type": "string"
            },
            "text/plain": [
              "'!drow olleh'"
            ]
          },
          "metadata": {},
          "execution_count": 7
        }
      ]
    },
    {
      "cell_type": "markdown",
      "metadata": {
        "id": "sDLfV3PXkVFH"
      },
      "source": [
        "6.Convert the string **How are you** upper case"
      ]
    },
    {
      "cell_type": "code",
      "metadata": {
        "id": "z30-4ZLUkJ9e",
        "colab": {
          "base_uri": "https://localhost:8080/",
          "height": 35
        },
        "outputId": "fe7109b0-3f8b-4957-e916-8ff6dc81aa64"
      },
      "source": [
        "word=\"how are you\"\n",
        "word.upper()"
      ],
      "execution_count": 8,
      "outputs": [
        {
          "output_type": "execute_result",
          "data": {
            "application/vnd.google.colaboratory.intrinsic+json": {
              "type": "string"
            },
            "text/plain": [
              "'HOW ARE YOU'"
            ]
          },
          "metadata": {},
          "execution_count": 8
        }
      ]
    },
    {
      "cell_type": "markdown",
      "metadata": {
        "id": "JT__7MeVlzcW"
      },
      "source": [
        "7-convert the string How Is It Going? in lower case"
      ]
    },
    {
      "cell_type": "code",
      "metadata": {
        "id": "LhOPhKxbk4Ll",
        "colab": {
          "base_uri": "https://localhost:8080/",
          "height": 35
        },
        "outputId": "df4de399-f7db-4038-ffe7-8b9e38b73ee0"
      },
      "source": [
        "word=\"How Is It Going\"\n",
        "word.lower()"
      ],
      "execution_count": 9,
      "outputs": [
        {
          "output_type": "execute_result",
          "data": {
            "application/vnd.google.colaboratory.intrinsic+json": {
              "type": "string"
            },
            "text/plain": [
              "'how is it going'"
            ]
          },
          "metadata": {},
          "execution_count": 9
        }
      ]
    },
    {
      "cell_type": "markdown",
      "metadata": {
        "id": "TjLuE5hZmUXH"
      },
      "source": [
        "8.Join the folowing list by spaces () and print result\n",
        "- words=['python','is','very','easy','to','learn']"
      ]
    },
    {
      "cell_type": "code",
      "metadata": {
        "id": "Nbqgfb-zmSeR",
        "colab": {
          "base_uri": "https://localhost:8080/"
        },
        "outputId": "7446d535-5a95-45d4-8a04-6dc2f839916d"
      },
      "source": [
        "words=['python','is','very','easy','to','learn']\n",
        "words=' '.join(words)\n",
        "print(words)"
      ],
      "execution_count": 10,
      "outputs": [
        {
          "output_type": "stream",
          "name": "stdout",
          "text": [
            "python is very easy to learn\n"
          ]
        }
      ]
    },
    {
      "cell_type": "markdown",
      "metadata": {
        "id": "EmhWcjDI0Bbm"
      },
      "source": [
        "9.Print a multiline string using a single print"
      ]
    },
    {
      "cell_type": "code",
      "metadata": {
        "id": "bVf--AnHy7_J",
        "colab": {
          "base_uri": "https://localhost:8080/"
        },
        "outputId": "fc8369d4-8109-4859-e919-4fe4f475d31c"
      },
      "source": [
        "w =(\"this is an example of\"\n",
        "\"multiline string which is\"\n",
        "\"not easy to learn but\"\n",
        "\"you can easily do by practise\")\n",
        "print(w)"
      ],
      "execution_count": 11,
      "outputs": [
        {
          "output_type": "stream",
          "name": "stdout",
          "text": [
            "this is an example ofmultiline string which isnot easy to learn butyou can easily do by practise\n"
          ]
        }
      ]
    },
    {
      "cell_type": "markdown",
      "metadata": {
        "id": "SL6-xugi2Zz4"
      },
      "source": [
        "10.print this string to move to newline '\\n' is used (results should look exactly look like the provided string)"
      ]
    },
    {
      "cell_type": "code",
      "metadata": {
        "id": "JnnlDBCE0ehw",
        "colab": {
          "base_uri": "https://localhost:8080/"
        },
        "outputId": "aa879d25-6128-47f0-ee3f-9146e81431e2"
      },
      "source": [
        "word=\"to move  to newline \\n is used\"\n",
        "print(repr(word))"
      ],
      "execution_count": 14,
      "outputs": [
        {
          "output_type": "stream",
          "name": "stdout",
          "text": [
            "'to move  to newline \\n is used'\n"
          ]
        }
      ]
    },
    {
      "cell_type": "markdown",
      "metadata": {
        "id": "iaYWMwyHYoad"
      },
      "source": [
        "11.PRINT a variable with some text using a single print function,output should look like the following \n",
        "- the variable is 15"
      ]
    },
    {
      "cell_type": "code",
      "metadata": {
        "id": "FkipxxXMblW1",
        "colab": {
          "base_uri": "https://localhost:8080/"
        },
        "outputId": "ef823d10-d91e-4d77-c7f4-522fcab73d0f"
      },
      "source": [
        "v=\"the variable is\"\n",
        "variable=15\n",
        "print(\"variable with some text is ::::::\",v, variable)"
      ],
      "execution_count": 15,
      "outputs": [
        {
          "output_type": "stream",
          "name": "stdout",
          "text": [
            "variable with some text is :::::: the variable is 15\n"
          ]
        }
      ]
    },
    {
      "cell_type": "markdown",
      "metadata": {
        "id": "tT65s3phiNgM"
      },
      "source": [
        "12.Concatenate the following string and print the result\n",
        "- s1=\"python\"\n",
        "- s2=\"is\"\n",
        "- s3=\"great\"\n"
      ]
    },
    {
      "cell_type": "code",
      "metadata": {
        "id": "IEuH2tc5gtIL",
        "colab": {
          "base_uri": "https://localhost:8080/"
        },
        "outputId": "d3fe1822-1ba5-4ff7-fab1-a1916a4dd443"
      },
      "source": [
        "s1 =\"python \"\n",
        "s2=\"is \"\n",
        "s3=\"great\"\n",
        "print(s1  +  s2  +  s3)"
      ],
      "execution_count": 16,
      "outputs": [
        {
          "output_type": "stream",
          "name": "stdout",
          "text": [
            "python is great\n"
          ]
        }
      ]
    },
    {
      "cell_type": "markdown",
      "metadata": {
        "id": "opdppsUyjT7p"
      },
      "source": [
        "13.print # 20 times wiht out using a loop\n"
      ]
    },
    {
      "cell_type": "code",
      "metadata": {
        "id": "LfNkVUYmjGXS",
        "colab": {
          "base_uri": "https://localhost:8080/"
        },
        "outputId": "50b68c44-8269-44df-d813-4d2433140b04"
      },
      "source": [
        "print(\"# \" * 20)"
      ],
      "execution_count": 17,
      "outputs": [
        {
          "output_type": "stream",
          "name": "stdout",
          "text": [
            "# # # # # # # # # # # # # # # # # # # # \n"
          ]
        }
      ]
    },
    {
      "cell_type": "markdown",
      "metadata": {
        "id": "Wy_r6FiWo7H3"
      },
      "source": [
        "14.Print  numbers from 1 to 9 each on a seprate line followed by a dot \n",
        "output should look like\n",
        "- ex\n",
        "- 1.\n",
        "- 2.\n",
        "- 3."
      ]
    },
    {
      "cell_type": "code",
      "metadata": {
        "id": "IE6YCw5Qkc14",
        "colab": {
          "base_uri": "https://localhost:8080/"
        },
        "outputId": "7599327c-f94c-4baa-ce33-8a6137deb61e"
      },
      "source": [
        "for i in range(10):\n",
        "   print(i,\".\")"
      ],
      "execution_count": 18,
      "outputs": [
        {
          "output_type": "stream",
          "name": "stdout",
          "text": [
            "0 .\n",
            "1 .\n",
            "2 .\n",
            "3 .\n",
            "4 .\n",
            "5 .\n",
            "6 .\n",
            "7 .\n",
            "8 .\n",
            "9 .\n"
          ]
        }
      ]
    },
    {
      "cell_type": "markdown",
      "metadata": {
        "id": "fQKtF5R4KTwf"
      },
      "source": [
        "15.ask a user to input a sentence and print each word on a different line "
      ]
    },
    {
      "cell_type": "code",
      "metadata": {
        "id": "duAJXnkRISTJ",
        "colab": {
          "base_uri": "https://localhost:8080/"
        },
        "outputId": "b35b1989-ca9a-4d0e-8b3a-dacef64761b0"
      },
      "source": [
        "i=input(\"enter words\")\n",
        "for i in i.split():\n",
        "   print(i)\n",
        "\n"
      ],
      "execution_count": 20,
      "outputs": [
        {
          "output_type": "stream",
          "name": "stdout",
          "text": [
            "enter wordsguy jhyguy jyguy\n",
            "guy\n",
            "jhyguy\n",
            "jyguy\n"
          ]
        }
      ]
    },
    {
      "cell_type": "markdown",
      "metadata": {
        "id": "_TIm3dDJyzR0"
      },
      "source": [
        "16.Ask a user to input a string and check if the string ends up with \"?\""
      ]
    },
    {
      "cell_type": "code",
      "metadata": {
        "id": "KJ0wMhziKzrv",
        "colab": {
          "base_uri": "https://localhost:8080/"
        },
        "outputId": "87d38179-005a-48ad-a801-aa742d09d790"
      },
      "source": [
        "s= str(input(\"enter a string\"))\n",
        "print(s.endswith(\"?\"))"
      ],
      "execution_count": 21,
      "outputs": [
        {
          "output_type": "stream",
          "name": "stdout",
          "text": [
            "enter a stringyrdydyt?\n",
            "True\n"
          ]
        }
      ]
    },
    {
      "cell_type": "markdown",
      "metadata": {
        "id": "Bn96QO1g5au7"
      },
      "source": [
        "17.Ask user to input a stirng and print how many times \"e' appered in the string"
      ]
    },
    {
      "cell_type": "code",
      "metadata": {
        "id": "9J28y3D75Dld",
        "colab": {
          "base_uri": "https://localhost:8080/"
        },
        "outputId": "2b6a5ad4-5463-420a-ffd2-74d408c133c1"
      },
      "source": [
        "i=str(input(\"enter a string\"))\n",
        "print(\"e appears\" , i.count(\"e\"))"
      ],
      "execution_count": 22,
      "outputs": [
        {
          "output_type": "stream",
          "name": "stdout",
          "text": [
            "enter a stringtydytdy67ey55\n",
            "e appears 1\n"
          ]
        }
      ]
    },
    {
      "cell_type": "markdown",
      "metadata": {
        "id": "NecO7YvS7Put"
      },
      "source": [
        "18.Check if the user input is a number\n"
      ]
    },
    {
      "cell_type": "code",
      "metadata": {
        "id": "u5ry7pbY52Of",
        "colab": {
          "base_uri": "https://localhost:8080/"
        },
        "outputId": "dd06d3dc-eef4-4075-c940-ebd020bb2f06"
      },
      "source": [
        "i=input(\"enter anything\")\n",
        "if i.isnumeric():\n",
        "  i=int(i)\n",
        "  print(\"great success\")\n",
        "else:\n",
        "  print(\"wrong\")\n",
        " "
      ],
      "execution_count": 23,
      "outputs": [
        {
          "output_type": "stream",
          "name": "stdout",
          "text": [
            "enter anythingdrrydy\n",
            "wrong\n"
          ]
        }
      ]
    },
    {
      "cell_type": "markdown",
      "metadata": {
        "id": "-nABv9QW-xEB"
      },
      "source": [
        "19.Remove the extra spaces in begining and in the end of the foolowing sting\n",
        "- text= '      this is not a good string       '"
      ]
    },
    {
      "cell_type": "code",
      "metadata": {
        "colab": {
          "base_uri": "https://localhost:8080/"
        },
        "id": "3_bm-gEG-faH",
        "outputId": "b33a09b4-4e02-4b43-ea3a-28dcc7597d48"
      },
      "source": [
        "i='    this is not a good string      '\n",
        "print(i.strip())"
      ],
      "execution_count": 24,
      "outputs": [
        {
          "output_type": "stream",
          "name": "stdout",
          "text": [
            "this is not a good string\n"
          ]
        }
      ]
    },
    {
      "cell_type": "markdown",
      "metadata": {
        "id": "cjgfDog7Ebbx"
      },
      "source": [
        "20.Ask user to input string ,print found if any of the character is uppercase"
      ]
    },
    {
      "cell_type": "code",
      "metadata": {
        "id": "I4LzzW7XBUoK",
        "colab": {
          "base_uri": "https://localhost:8080/"
        },
        "outputId": "766a653a-18a2-4cce-de56-418bfd26645c"
      },
      "source": [
        "i=str(input(\"enter string\"))\n",
        "print(\"found\",i.isupper())"
      ],
      "execution_count": 25,
      "outputs": [
        {
          "output_type": "stream",
          "name": "stdout",
          "text": [
            "enter stringgufufitguL\n",
            "found False\n"
          ]
        }
      ]
    },
    {
      "cell_type": "markdown",
      "metadata": {
        "id": "sOQ8PUrnI6C9"
      },
      "source": [
        "21.extract name from the following string and store them in a list\n",
        "- names=[\"joe\",david,mark,tom,robert]"
      ]
    },
    {
      "cell_type": "code",
      "metadata": {
        "id": "OMvxTopgGfsc",
        "colab": {
          "base_uri": "https://localhost:8080/"
        },
        "outputId": "aa810980-3bd3-44e6-deb8-b8a5fc407ac2"
      },
      "source": [
        "i=\"joe,david,mark,tom,robert\"\n",
        "print(i.split())"
      ],
      "execution_count": 26,
      "outputs": [
        {
          "output_type": "stream",
          "name": "stdout",
          "text": [
            "['joe,david,mark,tom,robert']\n"
          ]
        }
      ]
    },
    {
      "cell_type": "markdown",
      "metadata": {
        "id": "9yqD-OE8JO7n"
      },
      "source": [
        "22. the following string add eye in the end of every word and print the result\n",
        "- this is some text"
      ]
    },
    {
      "cell_type": "code",
      "metadata": {
        "id": "xZhuhjKQJga8",
        "colab": {
          "base_uri": "https://localhost:8080/"
        },
        "outputId": "b14a262e-04f6-4e5d-bbf0-ab46bf714d4f"
      },
      "source": [
        "s=\"this is some text\"\n",
        "print(s.join(\"aye\"))"
      ],
      "execution_count": 27,
      "outputs": [
        {
          "output_type": "stream",
          "name": "stdout",
          "text": [
            "athis is some textythis is some texte\n"
          ]
        }
      ]
    },
    {
      "cell_type": "markdown",
      "metadata": {
        "id": "XTJy_2j3Jkv6"
      },
      "source": [
        "23.ask a user to enter a string and check if the string contains fyi"
      ]
    },
    {
      "cell_type": "code",
      "metadata": {
        "id": "nvA6SCotJwU2",
        "colab": {
          "base_uri": "https://localhost:8080/"
        },
        "outputId": "4a6814f2-1720-4e14-82a9-277cfb576240"
      },
      "source": [
        "i=str(input(\"enter string\"))\n",
        "s='fyi'\n",
        "if s in  i:\n",
        "  print(\"found\")\n",
        "else:\n",
        "  print(\"Not found\")   "
      ],
      "execution_count": 28,
      "outputs": [
        {
          "output_type": "stream",
          "name": "stdout",
          "text": [
            "enter stringytfjytfuy\n",
            "Not found\n"
          ]
        }
      ]
    },
    {
      "cell_type": "markdown",
      "metadata": {
        "id": "mYR_xMyJJw7-"
      },
      "source": [
        "24.remove all the special character and a number from the foolowing stirng\n",
        "- text=\"2#$@#$34534FDFB#%5\""
      ]
    },
    {
      "cell_type": "code",
      "metadata": {
        "id": "82XkR-l7J9Gn",
        "colab": {
          "base_uri": "https://localhost:8080/"
        },
        "outputId": "31920b75-6ced-484c-cf41-4f6e69667a68"
      },
      "source": [
        "s=\"%34@!'*_*!68#&4\"\n",
        "i=\"%p34@y!'*_*!t68h#&on4\"\n",
        "for char in i:\n",
        "   if char not in s:\n",
        "     print(char,end='')"
      ],
      "execution_count": 29,
      "outputs": [
        {
          "output_type": "stream",
          "name": "stdout",
          "text": [
            "python"
          ]
        }
      ]
    },
    {
      "cell_type": "markdown",
      "metadata": {
        "id": "BsxVNyvbJ9q-"
      },
      "source": [
        "25.Calculate the avg word lenght of the folowing paragraph\n",
        "  \"this is a paragraph whic is written just for the purpoe of providig content to let the average word length to be clculated"
      ]
    },
    {
      "cell_type": "code",
      "metadata": {
        "id": "s9T9dB4gKZHN",
        "colab": {
          "base_uri": "https://localhost:8080/"
        },
        "outputId": "ba512a8a-5e70-4771-8a36-a275014353ba"
      },
      "source": [
        "x=\"this is a paragraph which is written just for the purpose of providing content to let the average word length to be calculated\"\n",
        "i=x.split()\n",
        "avg=sum(len(i) for i in i) / len(word)\n",
        "print(avg)\n"
      ],
      "execution_count": 30,
      "outputs": [
        {
          "output_type": "stream",
          "name": "stdout",
          "text": [
            "3.586206896551724\n"
          ]
        }
      ]
    },
    {
      "cell_type": "code",
      "metadata": {
        "id": "R3fpsnAB4k8u"
      },
      "source": [
        ""
      ],
      "execution_count": null,
      "outputs": []
    }
  ]
}